{
  "nbformat": 4,
  "nbformat_minor": 0,
  "metadata": {
    "orig_nbformat": 2,
    "colab": {
      "name": "Assignment_1_Python.ipynb",
      "provenance": []
    },
    "language_info": {
      "name": "python"
    },
    "kernelspec": {
      "name": "python3",
      "display_name": "Python 3"
    }
  },
  "cells": [
    {
      "cell_type": "markdown",
      "metadata": {
        "id": "eMCPkUSSFhn8"
      },
      "source": [
        "# ML Assignment 1: Python Basics\n",
        "\n",
        "## Question 1: \n",
        "\n",
        "**Create a program that asks the user to enter their name and their age. Print out a message addressed to them that tells them the year that they will turn 100 years old.**"
      ]
    },
    {
      "cell_type": "code",
      "metadata": {
        "colab": {
          "base_uri": "https://localhost:8080/"
        },
        "id": "wU7CrFbDF7IO",
        "outputId": "51230c41-13a4-4b63-d4d1-c6e62f08ed24"
      },
      "source": [
        "import datetime\n",
        "\n",
        "name = input('Enter your name: ')\n",
        "age = int(input('Enter your age: '))\n",
        "\n",
        "year_100 = datetime.datetime.now().year - age + 100\n",
        "out = 'Welcome ' + name + ', in year ' + str(year_100) + ' you will be of 100 years old.'\n",
        "\n",
        "print(out)"
      ],
      "execution_count": 11,
      "outputs": [
        {
          "output_type": "stream",
          "text": [
            "Enter your name: Gurasis Singh\n",
            "Enter yor age: 21\n",
            "Welcome Gurasis Singh, in year 2100 you will be 100 years old.\n"
          ],
          "name": "stdout"
        }
      ]
    },
    {
      "cell_type": "markdown",
      "metadata": {
        "id": "XSJ1lhQXIsU2"
      },
      "source": [
        "### Question 1 Extras:\n",
        "\n",
        "**1. Add on to the previous program by asking the user for another number and\n",
        "printing out that many copies of the previous message.**\n",
        "\n",
        "**2. Print out that many copies of the previous message on separate lines.**"
      ]
    },
    {
      "cell_type": "code",
      "metadata": {
        "colab": {
          "base_uri": "https://localhost:8080/"
        },
        "id": "q4qQfGnhJQZd",
        "outputId": "be0e6293-fb32-49e4-a7b1-1315b05cd9bd"
      },
      "source": [
        "times = int(input('Enter number of copies to print of the message: '))\n",
        "out = out + '\\n'\n",
        "print(out * times)"
      ],
      "execution_count": 12,
      "outputs": [
        {
          "output_type": "stream",
          "text": [
            "Enter number of copies to print of the message: 5\n",
            "Welcome Gurasis Singh, in year 2100 you will be 100 years old.\n",
            "Welcome Gurasis Singh, in year 2100 you will be 100 years old.\n",
            "Welcome Gurasis Singh, in year 2100 you will be 100 years old.\n",
            "Welcome Gurasis Singh, in year 2100 you will be 100 years old.\n",
            "Welcome Gurasis Singh, in year 2100 you will be 100 years old.\n",
            "\n"
          ],
          "name": "stdout"
        }
      ]
    },
    {
      "cell_type": "markdown",
      "metadata": {
        "id": "CAVTeB85MC_n"
      },
      "source": [
        "## Question 2: \n",
        "\n",
        "**Take a list, say for example this one:\n",
        "a = [1, 1, 2, 3, 5, 8, 13, 21, 34, 55, 89]\n",
        "and write a program that prints out all the elements of the list that are less than 5.**"
      ]
    },
    {
      "cell_type": "code",
      "metadata": {
        "colab": {
          "base_uri": "https://localhost:8080/"
        },
        "id": "bSsPbZxINVZh",
        "outputId": "fc506cd7-a9bc-47e6-a7e2-4636035150ab"
      },
      "source": [
        "a = [1, 1, 2, 3, 5, 8, 13, 21, 34, 55, 89]\n",
        "\n",
        "print('Elements that are less than 5: \\n')\n",
        "for i in a:\n",
        "    if i<5: \n",
        "      print(i)"
      ],
      "execution_count": 16,
      "outputs": [
        {
          "output_type": "stream",
          "text": [
            "Elements that are less than 5: \n",
            "\n",
            "1\n",
            "1\n",
            "2\n",
            "3\n"
          ],
          "name": "stdout"
        }
      ]
    },
    {
      "cell_type": "markdown",
      "metadata": {
        "id": "z16GGIYUPAas"
      },
      "source": [
        "### Question 2 Extras:\n",
        "\n",
        "**1. Instead of printing the elements one by one, make a new list that has all the elements less than 5 from this list in it and print out this new list.**\n",
        "\n",
        "**2. Write this in one line of Python.**\n",
        "\n",
        "**3. Ask the user for a number and return a list that contains only elements from the original list a that are smaller than that number given by the user.**"
      ]
    },
    {
      "cell_type": "code",
      "metadata": {
        "colab": {
          "base_uri": "https://localhost:8080/"
        },
        "id": "PD59nmN3PVhl",
        "outputId": "497a0d4e-c846-40e1-a4fe-cf5ade333cfe"
      },
      "source": [
        "new_list = [n for n in a if n < 5]\n",
        "\n",
        "print('New list with elements less than 5: ' + str(new_list) + '\\n')\n",
        "\n",
        "less_than = int(input('Enter the number to use for filtering: '))\n",
        "\n",
        "print('New list with elements less than ' + str(less_than) + ': ' + str([n for n in a if n < less_than]) + '\\n')"
      ],
      "execution_count": 20,
      "outputs": [
        {
          "output_type": "stream",
          "text": [
            "New list with elements less than 5: [1, 1, 2, 3]\n",
            "\n",
            "Enter the number to use for filtering: 25\n",
            "New list with elements less than 25: [1, 1, 2, 3, 5, 8, 13, 21]\n",
            "\n"
          ],
          "name": "stdout"
        }
      ]
    },
    {
      "cell_type": "markdown",
      "metadata": {
        "id": "oBF2IMTzSjkP"
      },
      "source": [
        "## Question 3:\n",
        "\n",
        "**Write a program that asks the user how many Fibonacci numbers to generate and\n",
        "then generates them. Take this opportunity to think about how you can use functions. Make sure to ask the user to enter the number of numbers in the sequence to generate.**"
      ]
    },
    {
      "cell_type": "code",
      "metadata": {
        "colab": {
          "base_uri": "https://localhost:8080/"
        },
        "id": "z-aOO_oWTGCr",
        "outputId": "9d3abfa2-d27e-4528-c547-6ebbede9b950"
      },
      "source": [
        "def generateFibbonacci(n):\n",
        "  if n <= 1:\n",
        "       return n\n",
        "  else:\n",
        "       return(generateFibbonacci(n-1) + generateFibbonacci(n-2))\n",
        "\n",
        "items = int(input('Enter number of Fibonacci numbers to generate: '))\n",
        "\n",
        "print('\\nFirst ' + str(items) + ' Fibonacci numbers:')\n",
        "\n",
        "for i in range(items):\n",
        "  print(generateFibbonacci(i))"
      ],
      "execution_count": 25,
      "outputs": [
        {
          "output_type": "stream",
          "text": [
            "Enter number of Fibonacci numbers to generate: 14\n",
            "\n",
            "First 14 Fibonacci numbers:\n",
            "0\n",
            "1\n",
            "1\n",
            "2\n",
            "3\n",
            "5\n",
            "8\n",
            "13\n",
            "21\n",
            "34\n",
            "55\n",
            "89\n",
            "144\n",
            "233\n"
          ],
          "name": "stdout"
        }
      ]
    },
    {
      "cell_type": "markdown",
      "metadata": {
        "id": "z7bMm5AFV0W6"
      },
      "source": [
        "## Question 4:\n",
        "\n",
        "**Write a program that takes a list and returns a new list that contains all the elements of the first list minus all the duplicates.**\n",
        "\n",
        "**Extras: Write two different functions to do this - one using a loop and constructing a\n",
        "list, and another using sets.**"
      ]
    },
    {
      "cell_type": "code",
      "metadata": {
        "colab": {
          "base_uri": "https://localhost:8080/"
        },
        "id": "40C92V7GWQku",
        "outputId": "da364dda-e508-40d3-dbf5-8017a888be53"
      },
      "source": [
        "def listWithoutDuplicatesUsingLoop(l):\n",
        "  new_list = []\n",
        "\n",
        "  for i in l:\n",
        "    if i not in new_list:\n",
        "      new_list.append(i)\n",
        "\n",
        "  return new_list\n",
        "\n",
        "def listWithoutDuplicatesUsingSets(l):\n",
        "  new_set = set(l)\n",
        "  new_list = list(new_set)\n",
        "  \n",
        "  return new_list\n",
        "\n",
        "aList = [1,4,1,7,1,5,8,6,3,1,4,7,8,5,3,6,8,2,1,5,9,9,9,6,3]\n",
        "\n",
        "print('List without duplicate elements using loop: ' + str(listWithoutDuplicatesUsingLoop(aList)) + '\\n')\n",
        "\n",
        "print('List without duplicate elements using sets: ' + str(listWithoutDuplicatesUsingSets(aList)) + '\\n')"
      ],
      "execution_count": 26,
      "outputs": [
        {
          "output_type": "stream",
          "text": [
            "List without duplicate elements using loop: [1, 4, 7, 5, 8, 6, 3, 2, 9]\n",
            "\n",
            "List without duplicate elements using sets: [1, 2, 3, 4, 5, 6, 7, 8, 9]\n",
            "\n"
          ],
          "name": "stdout"
        }
      ]
    },
    {
      "cell_type": "markdown",
      "metadata": {
        "id": "h8fLTDH2ZCtA"
      },
      "source": [
        "## Question 5\n",
        "\n",
        "**Ask the user for a number and determine whether the number is prime or not. Use functions.**"
      ]
    },
    {
      "cell_type": "code",
      "metadata": {
        "colab": {
          "base_uri": "https://localhost:8080/"
        },
        "id": "ckDrH7HmZV09",
        "outputId": "7520c2d8-b0a7-413c-81c0-a9bbbcb45105"
      },
      "source": [
        "import math\n",
        "\n",
        "def primeOrNot(num):\n",
        "\n",
        "  for i in range(2, int(math.sqrt(num))):\n",
        "    if num % i == 0:\n",
        "      return ' is not a prime number.'\n",
        "\n",
        "  return ' is a prime number'\n",
        "\n",
        "inp1 = int(input('Enter a number to check if it is prime or not: '))\n",
        "\n",
        "print('\\n' + str(inp1) + primeOrNot(inp1))   \n",
        "\n",
        "inp2 = int(input('\\nEnter a number to check if it is prime or not: '))\n",
        "\n",
        "print('\\n' + str(inp2) + primeOrNot(inp2))"
      ],
      "execution_count": 32,
      "outputs": [
        {
          "output_type": "stream",
          "text": [
            "Enter a number to check if it is prime or not: 1247\n",
            "\n",
            "1247 is not a prime number.\n",
            "\n",
            "Enter a number to check if it is prime or not: 4049\n",
            "\n",
            "4049 is a prime number\n"
          ],
          "name": "stdout"
        }
      ]
    }
  ]
}